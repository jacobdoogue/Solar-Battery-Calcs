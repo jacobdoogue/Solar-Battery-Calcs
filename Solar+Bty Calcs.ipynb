{
 "cells": [
  {
   "cell_type": "markdown",
   "metadata": {},
   "source": [
    "This is a set of basic calculations for:\n",
    "1. Load Calculation\n",
    "2. Solar Energy Generation/Solar Panel Sizing\n",
    "3. Battery Energy Storage Calculation/Sizing"
   ]
  },
  {
   "cell_type": "markdown",
   "metadata": {},
   "source": [
    "1. Load Calculations"
   ]
  },
  {
   "cell_type": "code",
   "execution_count": 36,
   "metadata": {},
   "outputs": [],
   "source": [
    "load_voltage = 5 # volts\n",
    "load_current = 0.5 # amps\n",
    "load_power = load_voltage * load_current # watts\n",
    "load_time = 24 # hours\n",
    "load_energy_daily = load_power * load_time # watt-hours Wh\n",
    "\n"
   ]
  },
  {
   "cell_type": "markdown",
   "metadata": {},
   "source": [
    "2. (A) Solar Energy Generation\n",
    "*Assumptions/Notes\n",
    "*Location specifc solar exposure info found here:  http://www.bom.gov.au/climate/data/index.shtml?bookmark=193\n",
    "*Irradiance/Insolation in kWhm^-2 over a day is equivalent in total energy terms to the number of hours of the insolation at 1 kw/m2 and is called \"peak sun hours\" https://www.pveducation.org/pvcdrom/properties-of-sunlight/average-solar-radiation"
   ]
  },
  {
   "cell_type": "code",
   "execution_count": 37,
   "metadata": {},
   "outputs": [],
   "source": [
    "solar_panel_power = 150 #Name plate wattage, this is generation capacity at 1000 Wm^-2\n",
    "number_solar_panels = 1\n",
    "solar_generation_capacity = solar_panel_power * number_solar_panels\n",
    "location_winter_lowest_daily_solar_khwm2 = 2  #use monthly mean of lowest daily average. This is kWhm^-2 or peak sun hours (hours at 1kWm^-2)\n",
    "\n",
    "daily_solar_energy_generation = solar_generation_capacity * location_winter_lowest_daily_solar_khwm2\n",
    "\n"
   ]
  },
  {
   "cell_type": "markdown",
   "metadata": {},
   "source": [
    "2. (B) Solar Panel Sizing\n",
    "* When you know how much energy you need and want to size solar panel..."
   ]
  },
  {
   "cell_type": "code",
   "execution_count": 38,
   "metadata": {},
   "outputs": [],
   "source": [
    "total_daily_energy_required = 1000 # watts\n",
    "solar_generation_capacity_sizing = total_daily_energy_required / location_winter_lowest_daily_solar_khwm2\n"
   ]
  },
  {
   "cell_type": "markdown",
   "metadata": {},
   "source": [
    "3. (A) Battery Energy Storage Calculation\n"
   ]
  },
  {
   "cell_type": "code",
   "execution_count": 39,
   "metadata": {},
   "outputs": [],
   "source": [
    "battery_voltage = 12 # volts\n",
    "battery_capacity = 8 # AmpHours\n",
    "battery_depth_of_discharge = 0.5 # note for lead acid/agm DoD is 50%, for lithium ion ~90%\n",
    "\n",
    "total_battery_energy_storage = battery_voltage * battery_capacity * battery_depth_of_discharge # energy in Wh watt-hours"
   ]
  },
  {
   "cell_type": "markdown",
   "metadata": {},
   "source": [
    "4. Total Energy Calcs \n",
    "*Worst Case Winter..."
   ]
  },
  {
   "cell_type": "code",
   "execution_count": 52,
   "metadata": {},
   "outputs": [],
   "source": [
    "daily_net_energy = daily_solar_energy_generation - load_energy_daily # if this is negative, you need more solar. If positive, there is enough solar energy in total\n",
    "\n",
    "daily_energy_into_battery = location_winter_lowest_daily_solar_khwm2 * (solar_generation_capacity - load_power)\n",
    "\n",
    "if daily_energy_into_battery > total_battery_energy_storage:\n",
    "    daily_energy_into_battery = total_battery_energy_storage\n",
    "                                                                        \n",
    "battery_hours = daily_energy_into_battery / load_power # hours your battery can last..\n",
    "\n",
    "battery_operation_hours = 24 - location_winter_lowest_daily_solar_khwm2 # e.g number of hours sun is not shining\n",
    "\n",
    "extra_battery_capacity_required = (battery_operation_hours - battery_hours) * battery_capacity / battery_depth_of_discharge # Battery Ah required"
   ]
  },
  {
   "cell_type": "markdown",
   "metadata": {},
   "source": [
    "4. Results"
   ]
  },
  {
   "cell_type": "code",
   "execution_count": 54,
   "metadata": {},
   "outputs": [
    {
     "name": "stdout",
     "output_type": "stream",
     "text": [
      "load_energy_daily = 60.0 Wh WattHours\n",
      "daily_solar_energy_generation = 300 Wh WattHours\n",
      "daily_net_energy = 240.0 Wh WattHours\n",
      "daily_energy_into_battery = 48.0 Wh WattHours\n",
      "battery_hours = 19.2 hours\n",
      "extra_battery_capacity_required = 44.80000000000001 Ah AmpHours\n"
     ]
    }
   ],
   "source": [
    "out = \"load_energy_daily = {} Wh WattHours\"\n",
    "print(out.format(load_energy_daily))\n",
    "\n",
    "out = \"daily_solar_energy_generation = {} Wh WattHours\"\n",
    "print(out.format(daily_solar_energy_generation))\n",
    "\n",
    "\n",
    "out = \"daily_net_energy = {} Wh WattHours\"\n",
    "print(out.format(daily_net_energy))\n",
    "\n",
    "out = \"daily_energy_into_battery = {} Wh WattHours\"\n",
    "print(out.format(daily_energy_into_battery))\n",
    "\n",
    "out = \"battery_hours = {} hours\"\n",
    "print(out.format(battery_hours))\n",
    "\n",
    "out = \"extra_battery_capacity_required = {} Ah AmpHours\"\n",
    "print(out.format(extra_battery_capacity_required))"
   ]
  },
  {
   "cell_type": "code",
   "execution_count": null,
   "metadata": {},
   "outputs": [],
   "source": []
  },
  {
   "cell_type": "code",
   "execution_count": null,
   "metadata": {},
   "outputs": [],
   "source": []
  }
 ],
 "metadata": {
  "kernelspec": {
   "display_name": "Python 3",
   "language": "python",
   "name": "python3"
  },
  "language_info": {
   "codemirror_mode": {
    "name": "ipython",
    "version": 3
   },
   "file_extension": ".py",
   "mimetype": "text/x-python",
   "name": "python",
   "nbconvert_exporter": "python",
   "pygments_lexer": "ipython3",
   "version": "3.7.6"
  }
 },
 "nbformat": 4,
 "nbformat_minor": 4
}
